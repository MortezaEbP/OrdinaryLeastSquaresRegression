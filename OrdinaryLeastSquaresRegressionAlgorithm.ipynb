{
 "cells": [
  {
   "cell_type": "code",
   "execution_count": null,
   "metadata": {
    "collapsed": true
   },
   "outputs": [],
   "source": []
  },
  {
   "cell_type": "code",
   "execution_count": null,
   "outputs": [],
   "source": [
    "import numpy as np\n",
    "\n",
    "class OLSRegression:\n",
    "    def __init__(self):\n",
    "        \"\"\"\n",
    "        Ordinary Least Squares (OLS) Regression model.\n",
    "\n",
    "        Attributes:\n",
    "            coefs_ (ndarray): Weights (coefficients) of the model.\n",
    "            intercept_ (float): Bias (intercept) term of the model.\n",
    "        \"\"\"\n",
    "        self.coefs_ = None\n",
    "        self.intercept_ = None\n",
    "\n",
    "    def fit_ols(self, X, y):\n",
    "        \"\"\"\n",
    "        Fit the OLS Regression model to the given training data.\n",
    "\n",
    "        Parameters:\n",
    "            X (ndarray): Training input features (n_samples, n_features).\n",
    "            y (ndarray): Target values (n_samples,).\n",
    "\n",
    "        Note:\n",
    "            This method calculates the coefficients and intercept using the least squares method.\n",
    "\n",
    "        Returns:\n",
    "            None\n",
    "        \"\"\"\n",
    "        X = np.column_stack((np.ones(len(X)), np.array(X)))\n",
    "        all_coef = np.linalg.pinv(X) @ y\n",
    "        self.coefs_ = np.delete(all_coef, 0)\n",
    "        self.intercept_ = all_coef.item(0)\n",
    "\n",
    "    def predict(self, X):\n",
    "        \"\"\"\n",
    "        Predicts target values for the given input features.\n",
    "\n",
    "        Parameters:\n",
    "            X (numpy.ndarray): Input data with shape (n_samples, n_features).\n",
    "\n",
    "        Returns:\n",
    "            numpy.ndarray: Predicted target values with shape (n_samples,).\n",
    "        \"\"\"\n",
    "        X = np.array(X)\n",
    "        return np.dot(X, self.coefs_) + self.intercept_\n",
    "\n",
    "    def score(self, X, y_actual):\n",
    "        \"\"\"\n",
    "        Evaluates the model's performance using the coefficient of determination (R^2 score).\n",
    "\n",
    "        Parameters:\n",
    "            X (numpy.ndarray): Input data with shape (n_samples, n_features).\n",
    "            y_actual (numpy.ndarray): Actual target values with shape (n_samples,).\n",
    "\n",
    "        Returns:\n",
    "            float: R^2 score indicating the goodness of fit.\n",
    "        \"\"\"\n",
    "        y_actual = np.array(y_actual)\n",
    "        y_pred = self.predict(X)\n",
    "        return 1 - np.sum(np.power(y_actual - y_pred, 2)) / np.sum(np.power(y_actual - np.mean(y_actual), 2))\n",
    "\n"
   ],
   "metadata": {
    "collapsed": false
   }
  },
  {
   "cell_type": "code",
   "execution_count": null,
   "outputs": [],
   "source": [
    "# Example usage:\n",
    "# regression_model = OLSRegression()\n",
    "# regression_model.fit_ols(X_train, y_train)\n",
    "# predictions = regression_model.predict(X_test)\n",
    "# r_squared = regression_model.score(X_test, y_test)"
   ],
   "metadata": {
    "collapsed": false
   }
  },
  {
   "cell_type": "code",
   "execution_count": null,
   "outputs": [],
   "source": [],
   "metadata": {
    "collapsed": false
   }
  }
 ],
 "metadata": {
  "kernelspec": {
   "display_name": "Python 3",
   "language": "python",
   "name": "python3"
  },
  "language_info": {
   "codemirror_mode": {
    "name": "ipython",
    "version": 2
   },
   "file_extension": ".py",
   "mimetype": "text/x-python",
   "name": "python",
   "nbconvert_exporter": "python",
   "pygments_lexer": "ipython2",
   "version": "2.7.6"
  }
 },
 "nbformat": 4,
 "nbformat_minor": 0
}
